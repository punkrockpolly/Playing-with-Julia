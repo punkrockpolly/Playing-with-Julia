{
 "metadata": {
  "language": "Julia",
  "name": "Julia_Data_explore"
 },
 "nbformat": 3,
 "nbformat_minor": 0,
 "worksheets": [
  {
   "cells": [
    {
     "cell_type": "code",
     "collapsed": false,
     "input": "pwd()",
     "language": "python",
     "metadata": {},
     "outputs": [
      {
       "metadata": {},
       "output_type": "pyout",
       "prompt_number": 8,
       "text": "\"/Users/polina\""
      }
     ],
     "prompt_number": 8
    },
    {
     "cell_type": "code",
     "collapsed": false,
     "input": "data = readcsv(\"Dev/Juliacode/gasoline.csv\")",
     "language": "python",
     "metadata": {},
     "outputs": [
      {
       "metadata": {},
       "output_type": "pyout",
       "prompt_number": 21,
       "text": "82x6 Array{Float64,2}:\n  1.0  55.33   1.72  54.0  1.66219  92.19\n  2.0  59.13   1.2   53.0  1.58399  92.74\n  3.0  57.39   1.42  55.0  1.61731  91.88\n  4.0  56.43   1.78  55.0  1.66228  92.8 \n  5.0  55.98   1.58  54.0  1.63195  92.56\n  6.0  56.16   2.12  56.0  1.68034  92.61\n  7.0  54.85   1.17  54.0  1.58206  92.33\n  8.0  52.83   1.5   58.0  1.54998  92.22\n  9.0  54.52   0.87  57.0  1.5623   91.56\n 10.0  54.12   0.88  57.0  1.57818  92.17\n 11.0  51.72   0.0   56.0  1.60401  92.75\n 12.0  51.29   0.0   58.0  1.59594  92.89\n 13.0  53.22   1.31  58.0  1.54814  92.79\n  \u22ee                                  \u22ee   \n 71.0  49.14   0.0   40.0  2.1714   94.17\n 72.0  49.1    0.0   42.0  2.31909  94.39\n 73.0  44.66   4.99  42.0  2.14314  93.42\n 74.0  44.64   3.73  44.0  2.08081  94.65\n 75.0   4.23  10.76  41.0  2.1707   97.61\n 76.0   5.53   7.99  40.0  1.99418  97.08\n 77.0  17.11   5.06  47.0  1.61437  95.12\n 78.0  67.6    1.84  55.0  1.64758  91.86\n 79.0  64.81   2.24  54.0  1.69592  91.61\n 80.0  63.13   1.6   52.0  1.66118  92.17\n 81.0  63.48   3.46  52.0  1.48216  91.56\n 82.0  62.25   3.56  50.0  1.49734  92.16"
      }
     ],
     "prompt_number": 21
    },
    {
     "cell_type": "code",
     "collapsed": false,
     "input": "x = data[:, 2:4]",
     "language": "python",
     "metadata": {},
     "outputs": [
      {
       "metadata": {},
       "output_type": "pyout",
       "prompt_number": 22,
       "text": "82x3 Array{Float64,2}:\n 55.33   1.72  54.0\n 59.13   1.2   53.0\n 57.39   1.42  55.0\n 56.43   1.78  55.0\n 55.98   1.58  54.0\n 56.16   2.12  56.0\n 54.85   1.17  54.0\n 52.83   1.5   58.0\n 54.52   0.87  57.0\n 54.12   0.88  57.0\n 51.72   0.0   56.0\n 51.29   0.0   58.0\n 53.22   1.31  58.0\n  \u22ee                \n 49.14   0.0   40.0\n 49.1    0.0   42.0\n 44.66   4.99  42.0\n 44.64   3.73  44.0\n  4.23  10.76  41.0\n  5.53   7.99  40.0\n 17.11   5.06  47.0\n 67.6    1.84  55.0\n 64.81   2.24  54.0\n 63.13   1.6   52.0\n 63.48   3.46  52.0\n 62.25   3.56  50.0"
      }
     ],
     "prompt_number": 22
    },
    {
     "cell_type": "code",
     "collapsed": false,
     "input": " y = data[:, 6]",
     "language": "python",
     "metadata": {},
     "outputs": [
      {
       "metadata": {},
       "output_type": "pyout",
       "prompt_number": 23,
       "text": "82-element Array{Float64,1}:\n 92.19\n 92.74\n 91.88\n 92.8 \n 92.56\n 92.61\n 92.33\n 92.22\n 91.56\n 92.17\n 92.75\n 92.89\n 92.79\n  \u22ee   \n 94.17\n 94.39\n 93.42\n 94.65\n 97.61\n 97.08\n 95.12\n 91.86\n 91.61\n 92.17\n 91.56\n 92.16"
      }
     ],
     "prompt_number": 23
    },
    {
     "cell_type": "code",
     "collapsed": false,
     "input": "coefs = linreg(x, y)",
     "language": "python",
     "metadata": {},
     "outputs": [
      {
       "metadata": {},
       "output_type": "pyout",
       "prompt_number": 25,
       "text": "4-element Array{Float64,1}:\n 102.44     \n  -0.0952646\n  -0.148308 \n  -0.0831406"
      }
     ],
     "prompt_number": 25
    },
    {
     "cell_type": "code",
     "collapsed": false,
     "input": "",
     "language": "python",
     "metadata": {},
     "outputs": []
    }
   ],
   "metadata": {}
  }
 ]
}