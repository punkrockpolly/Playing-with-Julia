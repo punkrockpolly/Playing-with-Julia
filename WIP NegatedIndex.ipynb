{
 "metadata": {
  "language": "Julia",
  "name": ""
 },
 "nbformat": 3,
 "nbformat_minor": 0,
 "worksheets": [
  {
   "cells": [
    {
     "cell_type": "code",
     "collapsed": false,
     "input": [
      "pwd()"
     ],
     "language": "python",
     "metadata": {},
     "outputs": [
      {
       "metadata": {},
       "output_type": "pyout",
       "prompt_number": 1,
       "text": [
        "\"/Users/polina/Dev/Juliacode\""
       ]
      }
     ],
     "prompt_number": 1
    },
    {
     "cell_type": "code",
     "collapsed": false,
     "input": [
      "function getindex(A::Array, idx::NegatedIndex)\n",
      "    n = Base.length(A)\n",
      "    # if !(1 <= minimum(idx) && maximum(idx) <= n)\n",
      "    #     throw(BoundsError())\n",
      "    # end\n",
      "    b = deepcopy(A)\n",
      "    c = 0\n",
      "    for k=1:n\n",
      "        if k in idx  #for i in fullindex(idx, size(A,n))\n",
      "            splice!(b, k-c)\n",
      "            c += 1\n",
      "        end\n",
      "    end\n",
      "    return b\n",
      "end"
     ],
     "language": "python",
     "metadata": {},
     "outputs": [
      {
       "metadata": {},
       "output_type": "pyout",
       "prompt_number": 2,
       "text": [
        "9-element Array{Int64,1}:\n",
        "  1\n",
        "  5\n",
        "  7\n",
        "  2\n",
        "  4\n",
        " 99\n",
        " 21\n",
        "  0\n",
        "  5"
       ]
      }
     ],
     "prompt_number": 2
    },
    {
     "cell_type": "code",
     "collapsed": false,
     "input": [
      "x = splice!(A, 4)"
     ],
     "language": "python",
     "metadata": {},
     "outputs": [
      {
       "metadata": {},
       "output_type": "pyout",
       "prompt_number": 6,
       "text": [
        "2"
       ]
      }
     ],
     "prompt_number": 6
    },
    {
     "cell_type": "code",
     "collapsed": false,
     "input": [
      "B = [1 5 7 2 4 99 21 0 5]"
     ],
     "language": "python",
     "metadata": {},
     "outputs": [
      {
       "metadata": {},
       "output_type": "pyout",
       "prompt_number": 7,
       "text": [
        "1x9 Array{Int64,2}:\n",
        " 1  5  7  2  4  99  21  0  5"
       ]
      }
     ],
     "prompt_number": 7
    },
    {
     "cell_type": "code",
     "collapsed": false,
     "input": [
      "x = splice!(B, 4)"
     ],
     "language": "python",
     "metadata": {},
     "outputs": [
      {
       "ename": "LoadError",
       "evalue": "no method splice!(Array{Int64,2},Int64)\nat In[8]:1",
       "output_type": "pyerr",
       "traceback": [
        "no method splice!(Array{Int64,2},Int64)\nat In[8]:1"
       ]
      }
     ],
     "prompt_number": 8
    },
    {
     "cell_type": "code",
     "collapsed": false,
     "input": [
      "function negatedindex(input_array, n) # where n is an array or int\n",
      "    temp_array = deepcopy(input_array)\n",
      "    for i=1:length(temp_array)\n",
      "        if i in n\n",
      "            splice!(temp_array, i)\n",
      "        end\n",
      "    end\n",
      "    return temp_array\n",
      "end"
     ],
     "language": "python",
     "metadata": {},
     "outputs": [
      {
       "metadata": {},
       "output_type": "pyout",
       "prompt_number": 108,
       "text": [
        "negatedindex (generic function with 1 method)"
       ]
      }
     ],
     "prompt_number": 108
    },
    {
     "cell_type": "code",
     "collapsed": false,
     "input": [
      "A"
     ],
     "language": "python",
     "metadata": {},
     "outputs": [
      {
       "metadata": {},
       "output_type": "pyout",
       "prompt_number": 109,
       "text": [
        "6-element Array{Int64,1}:\n",
        "  1\n",
        "  5\n",
        " 99\n",
        " 21\n",
        "  0\n",
        "  5"
       ]
      }
     ],
     "prompt_number": 109
    },
    {
     "cell_type": "code",
     "collapsed": false,
     "input": [
      "negatedindex(A, 3)"
     ],
     "language": "python",
     "metadata": {},
     "outputs": [
      {
       "metadata": {},
       "output_type": "pyout",
       "prompt_number": 111,
       "text": [
        "5-element Array{Int64,1}:\n",
        "  1\n",
        "  5\n",
        " 21\n",
        "  0\n",
        "  5"
       ]
      }
     ],
     "prompt_number": 111
    },
    {
     "cell_type": "code",
     "collapsed": false,
     "input": [
      "negatedindex(A, c)"
     ],
     "language": "python",
     "metadata": {},
     "outputs": [
      {
       "metadata": {},
       "output_type": "pyout",
       "prompt_number": 37,
       "text": [
        "8-element Array{Int64,1}:\n",
        "  1\n",
        "  5\n",
        "  2\n",
        "  4\n",
        " 99\n",
        " 21\n",
        "  0\n",
        "  5"
       ]
      }
     ],
     "prompt_number": 37
    },
    {
     "cell_type": "code",
     "collapsed": false,
     "input": [
      "c"
     ],
     "language": "python",
     "metadata": {},
     "outputs": [
      {
       "metadata": {},
       "output_type": "pyout",
       "prompt_number": 38,
       "text": [
        "2-element Array{Int64,1}:\n",
        " 1\n",
        " 4"
       ]
      }
     ],
     "prompt_number": 38
    },
    {
     "cell_type": "code",
     "collapsed": false,
     "input": [
      "filter(function, collection)\n",
      "# Return a copy of collection, removing (key, value) pairs for which function is false."
     ],
     "language": "python",
     "metadata": {},
     "outputs": [
      {
       "output_type": "stream",
       "stream": "stdout",
       "text": [
        "15"
       ]
      },
      {
       "output_type": "stream",
       "stream": "stdout",
       "text": [
        "74992105"
       ]
      }
     ],
     "prompt_number": 16
    },
    {
     "cell_type": "code",
     "collapsed": false,
     "input": [
      "c = [1,4]"
     ],
     "language": "python",
     "metadata": {},
     "outputs": [
      {
       "metadata": {},
       "output_type": "pyout",
       "prompt_number": 28,
       "text": [
        "2-element Array{Int64,1}:\n",
        " 1\n",
        " 4"
       ]
      }
     ],
     "prompt_number": 28
    },
    {
     "cell_type": "code",
     "collapsed": false,
     "input": [
      "negatedindex(A, c)"
     ],
     "language": "python",
     "metadata": {},
     "outputs": [
      {
       "metadata": {},
       "output_type": "pyout",
       "prompt_number": 112,
       "text": [
        "4-element Array{Int64,1}:\n",
        "  5\n",
        " 99\n",
        " 21\n",
        "  5"
       ]
      }
     ],
     "prompt_number": 112
    },
    {
     "cell_type": "code",
     "collapsed": false,
     "input": [
      "negatedindex(A, 1)"
     ],
     "language": "python",
     "metadata": {},
     "outputs": [
      {
       "metadata": {},
       "output_type": "pyout",
       "prompt_number": 31,
       "text": [
        "3-element Array{Int64,1}:\n",
        " 99\n",
        " 21\n",
        "  5"
       ]
      }
     ],
     "prompt_number": 31
    },
    {
     "cell_type": "code",
     "collapsed": false,
     "input": [
      "B"
     ],
     "language": "python",
     "metadata": {},
     "outputs": [
      {
       "metadata": {},
       "output_type": "pyout",
       "prompt_number": 57,
       "text": [
        "1x9 Array{Int64,2}:\n",
        " 1  5  7  2  4  99  21  0  5"
       ]
      }
     ],
     "prompt_number": 57
    },
    {
     "cell_type": "code",
     "collapsed": false,
     "input": [
      "f = deepcopy(B)"
     ],
     "language": "python",
     "metadata": {},
     "outputs": [
      {
       "metadata": {},
       "output_type": "pyout",
       "prompt_number": 70,
       "text": [
        "9x1 Array{Int64,2}:\n",
        "  5\n",
        "  5\n",
        "  7\n",
        "  2\n",
        "  4\n",
        " 99\n",
        " 21\n",
        "  0\n",
        "  5"
       ]
      }
     ],
     "prompt_number": 70
    },
    {
     "cell_type": "code",
     "collapsed": false,
     "input": [
      "B = deepcopy(A)"
     ],
     "language": "python",
     "metadata": {},
     "outputs": [
      {
       "metadata": {},
       "output_type": "pyout",
       "prompt_number": 82,
       "text": [
        "9-element Array{Int64,1}:\n",
        "  1\n",
        "  5\n",
        "  7\n",
        "  2\n",
        "  4\n",
        " 99\n",
        " 21\n",
        "  0\n",
        "  5"
       ]
      }
     ],
     "prompt_number": 82
    },
    {
     "cell_type": "code",
     "collapsed": false,
     "input": [
      "B = B[1]"
     ],
     "language": "python",
     "metadata": {},
     "outputs": [
      {
       "metadata": {},
       "output_type": "pyout",
       "prompt_number": 78,
       "text": [
        "1"
       ]
      }
     ],
     "prompt_number": 78
    },
    {
     "cell_type": "code",
     "collapsed": false,
     "input": [
      "f = deepcopy(B)"
     ],
     "language": "python",
     "metadata": {},
     "outputs": [
      {
       "metadata": {},
       "output_type": "pyout",
       "prompt_number": 83,
       "text": [
        "9-element Array{Int64,1}:\n",
        "  1\n",
        "  5\n",
        "  7\n",
        "  2\n",
        "  4\n",
        " 99\n",
        " 21\n",
        "  0\n",
        "  5"
       ]
      }
     ],
     "prompt_number": 83
    },
    {
     "cell_type": "code",
     "collapsed": false,
     "input": [
      "x = splice!(B, 2)"
     ],
     "language": "python",
     "metadata": {},
     "outputs": [
      {
       "metadata": {},
       "output_type": "pyout",
       "prompt_number": 84,
       "text": [
        "5"
       ]
      }
     ],
     "prompt_number": 84
    },
    {
     "cell_type": "code",
     "collapsed": false,
     "input": [
      "B"
     ],
     "language": "python",
     "metadata": {},
     "outputs": [
      {
       "metadata": {},
       "output_type": "pyout",
       "prompt_number": 85,
       "text": [
        "8-element Array{Int64,1}:\n",
        "  1\n",
        "  7\n",
        "  2\n",
        "  4\n",
        " 99\n",
        " 21\n",
        "  0\n",
        "  5"
       ]
      }
     ],
     "prompt_number": 85
    },
    {
     "cell_type": "code",
     "collapsed": false,
     "input": [
      "f"
     ],
     "language": "python",
     "metadata": {},
     "outputs": [
      {
       "metadata": {},
       "output_type": "pyout",
       "prompt_number": 86,
       "text": [
        "9-element Array{Int64,1}:\n",
        "  1\n",
        "  5\n",
        "  7\n",
        "  2\n",
        "  4\n",
        " 99\n",
        " 21\n",
        "  0\n",
        "  5"
       ]
      }
     ],
     "prompt_number": 86
    },
    {
     "cell_type": "code",
     "collapsed": false,
     "input": [
      "negatedindex2(B, c)"
     ],
     "language": "python",
     "metadata": {},
     "outputs": [
      {
       "metadata": {},
       "output_type": "pyout",
       "prompt_number": 106,
       "text": [
        "6-element Array{Int64,1}:\n",
        "  7\n",
        "  2\n",
        "  4\n",
        " 21\n",
        "  0\n",
        "  5"
       ]
      }
     ],
     "prompt_number": 106
    },
    {
     "cell_type": "code",
     "collapsed": false,
     "input": [
      "B"
     ],
     "language": "python",
     "metadata": {},
     "outputs": [
      {
       "metadata": {},
       "output_type": "pyout",
       "prompt_number": 107,
       "text": [
        "8-element Array{Int64,1}:\n",
        "  1\n",
        "  7\n",
        "  2\n",
        "  4\n",
        " 99\n",
        " 21\n",
        "  0\n",
        "  5"
       ]
      }
     ],
     "prompt_number": 107
    },
    {
     "cell_type": "code",
     "collapsed": false,
     "input": [
      "B"
     ],
     "language": "python",
     "metadata": {},
     "outputs": [
      {
       "metadata": {},
       "output_type": "pyout",
       "prompt_number": 103,
       "text": [
        "8-element Array{Int64,1}:\n",
        "  1\n",
        "  7\n",
        "  2\n",
        "  4\n",
        " 99\n",
        " 21\n",
        "  0\n",
        "  5"
       ]
      }
     ],
     "prompt_number": 103
    },
    {
     "cell_type": "code",
     "collapsed": false,
     "input": [
      "c"
     ],
     "language": "python",
     "metadata": {},
     "outputs": [
      {
       "metadata": {},
       "output_type": "pyout",
       "prompt_number": 104,
       "text": [
        "2-element Array{Int64,1}:\n",
        " 1\n",
        " 4"
       ]
      }
     ],
     "prompt_number": 104
    },
    {
     "cell_type": "code",
     "collapsed": false,
     "input": [
      "function negated_index(a::Vector, i::Integer)\n",
      "    b = deepcopy(a)\n",
      "    for i=1:length(a)\n",
      "        if k in i\n",
      "            splice!(b, k)\n",
      "        end\n",
      "    end\n",
      "    return b\n",
      "end"
     ],
     "language": "python",
     "metadata": {},
     "outputs": [
      {
       "metadata": {},
       "output_type": "pyout",
       "prompt_number": 113,
       "text": [
        "negated_index (generic function with 1 method)"
       ]
      }
     ],
     "prompt_number": 113
    },
    {
     "cell_type": "code",
     "collapsed": false,
     "input": [
      "negated_index(B, 2)"
     ],
     "language": "python",
     "metadata": {},
     "outputs": [
      {
       "ename": "LoadError",
       "evalue": "k not defined\nat In[114]:1",
       "output_type": "pyerr",
       "traceback": [
        "k not defined\nat In[114]:1",
        " in negated_index at In[113]:4"
       ]
      }
     ],
     "prompt_number": 114
    },
    {
     "cell_type": "code",
     "collapsed": false,
     "input": [
      "function negated_index(a::Vector, i::Integer)\n",
      "    b = deepcopy(a)\n",
      "    for k=1:length(b)\n",
      "        if k in i\n",
      "            splice!(b, k)\n",
      "        end\n",
      "    end\n",
      "    return b\n",
      "end"
     ],
     "language": "python",
     "metadata": {},
     "outputs": [
      {
       "metadata": {},
       "output_type": "pyout",
       "prompt_number": 115,
       "text": [
        "negated_index (generic function with 1 method)"
       ]
      }
     ],
     "prompt_number": 115
    },
    {
     "cell_type": "code",
     "collapsed": false,
     "input": [
      "negated_index(B, 1)"
     ],
     "language": "python",
     "metadata": {},
     "outputs": [
      {
       "metadata": {},
       "output_type": "pyout",
       "prompt_number": 120,
       "text": [
        "7-element Array{Int64,1}:\n",
        "  7\n",
        "  2\n",
        "  4\n",
        " 99\n",
        " 21\n",
        "  0\n",
        "  5"
       ]
      }
     ],
     "prompt_number": 120
    },
    {
     "cell_type": "code",
     "collapsed": false,
     "input": [
      "B"
     ],
     "language": "python",
     "metadata": {},
     "outputs": [
      {
       "metadata": {},
       "output_type": "pyout",
       "prompt_number": 117,
       "text": [
        "8-element Array{Int64,1}:\n",
        "  1\n",
        "  7\n",
        "  2\n",
        "  4\n",
        " 99\n",
        " 21\n",
        "  0\n",
        "  5"
       ]
      }
     ],
     "prompt_number": 117
    },
    {
     "cell_type": "code",
     "collapsed": false,
     "input": [
      "function negated_index{T<:Integer}(a::Vector, r::Range1{T})\n",
      "\tb = deepcopy(a)\n",
      "    for k=1:length(b)\n",
      "        if k in i\n",
      "            splice!(b, k)\n",
      "        end\n",
      "    end\n",
      "    return b\n",
      "end"
     ],
     "language": "python",
     "metadata": {},
     "outputs": [
      {
       "metadata": {},
       "output_type": "pyout",
       "prompt_number": 119,
       "text": [
        "negated_index (generic function with 2 methods)"
       ]
      }
     ],
     "prompt_number": 119
    },
    {
     "cell_type": "code",
     "collapsed": false,
     "input": [
      "negated_index(B, c)"
     ],
     "language": "python",
     "metadata": {},
     "outputs": [
      {
       "ename": "LoadError",
       "evalue": "no method negated_index(Array{Int64,1},Array{Int64,1})\nat In[121]:1",
       "output_type": "pyerr",
       "traceback": [
        "no method negated_index(Array{Int64,1},Array{Int64,1})\nat In[121]:1"
       ]
      }
     ],
     "prompt_number": 121
    },
    {
     "cell_type": "code",
     "collapsed": false,
     "input": [
      "function negated_index(a::Vector, i::Integer)\n",
      "\tn = length(a)\n",
      "\tif !(1 <= i <= n)\n",
      "        throw(BoundsError())\n",
      "    end\n",
      "    b = deepcopy(a)\n",
      "    for k=1:length(b)\n",
      "        if k in i\n",
      "            splice!(b, k)\n",
      "        end\n",
      "    end\n",
      "    return b\n",
      "end"
     ],
     "language": "python",
     "metadata": {},
     "outputs": [
      {
       "metadata": {},
       "output_type": "pyout",
       "prompt_number": 122,
       "text": [
        "negated_index (generic function with 2 methods)"
       ]
      }
     ],
     "prompt_number": 122
    },
    {
     "cell_type": "code",
     "collapsed": false,
     "input": [
      "negated_index(B, 70)"
     ],
     "language": "python",
     "metadata": {},
     "outputs": [
      {
       "ename": "LoadError",
       "evalue": "BoundsError()\nat In[124]:1",
       "output_type": "pyerr",
       "traceback": [
        "BoundsError()\nat In[124]:1",
        " in negated_index at In[122]:4"
       ]
      }
     ],
     "prompt_number": 124
    },
    {
     "cell_type": "code",
     "collapsed": false,
     "input": [
      "function negated_index{T<:Integer}(a::Vector, r::Range1{T})\n",
      "\tn = length(a)\n",
      "\tif !(1 <= minimum(r) && maximum(r) <= n)\n",
      "        throw(BoundsError())\n",
      "    end\n",
      "    b = deepcopy(a)\n",
      "    c = 0\n",
      "    for k=1:n\n",
      "        if k in r\n",
      "            splice!(b, k-c)\n",
      "        \tc += 1\n",
      "        end\n",
      "    end\n",
      "    return b\n",
      "end"
     ],
     "language": "python",
     "metadata": {},
     "outputs": [
      {
       "metadata": {},
       "output_type": "pyout",
       "prompt_number": 193,
       "text": [
        "negated_index (generic function with 4 methods)"
       ]
      }
     ],
     "prompt_number": 193
    },
    {
     "cell_type": "code",
     "collapsed": false,
     "input": [
      "negated_index(B, 2:4)"
     ],
     "language": "python",
     "metadata": {},
     "outputs": [
      {
       "metadata": {},
       "output_type": "pyout",
       "prompt_number": 198,
       "text": [
        "5-element Array{Int64,1}:\n",
        "  1\n",
        " 99\n",
        " 21\n",
        "  0\n",
        "  5"
       ]
      }
     ],
     "prompt_number": 198
    },
    {
     "cell_type": "code",
     "collapsed": false,
     "input": [
      "function negated_index{T<:Integer}(a::Vector, v::Vector{T})\n",
      "\tn = length(a)\n",
      "\tif !(1 <= minimum(v) && maximum(v) <= n)\n",
      "        throw(BoundsError())\n",
      "    end\n",
      "    b = deepcopy(a)\n",
      "    c = 0\n",
      "    for k=1:n\n",
      "        if k in v\n",
      "            splice!(b, k-c)\n",
      "        \tc += 1\n",
      "        end\n",
      "    end\n",
      "    return b\n",
      "end"
     ],
     "language": "python",
     "metadata": {},
     "outputs": [
      {
       "metadata": {},
       "output_type": "pyout",
       "prompt_number": 208,
       "text": [
        "negated_index (generic function with 4 methods)"
       ]
      }
     ],
     "prompt_number": 208
    },
    {
     "cell_type": "code",
     "collapsed": false,
     "input": [
      "negated_index(B, c)"
     ],
     "language": "python",
     "metadata": {},
     "outputs": [
      {
       "metadata": {},
       "output_type": "pyout",
       "prompt_number": 209,
       "text": [
        "6-element Array{Int64,1}:\n",
        "  7\n",
        "  2\n",
        " 99\n",
        " 21\n",
        "  0\n",
        "  5"
       ]
      }
     ],
     "prompt_number": 209
    },
    {
     "cell_type": "code",
     "collapsed": false,
     "input": [
      "B"
     ],
     "language": "python",
     "metadata": {},
     "outputs": [
      {
       "metadata": {},
       "output_type": "pyout",
       "prompt_number": 187,
       "text": [
        "8-element Array{Int64,1}:\n",
        "  1\n",
        "  7\n",
        "  2\n",
        "  4\n",
        " 99\n",
        " 21\n",
        "  0\n",
        "  5"
       ]
      }
     ],
     "prompt_number": 187
    },
    {
     "cell_type": "code",
     "collapsed": false,
     "input": [
      "c"
     ],
     "language": "python",
     "metadata": {},
     "outputs": [
      {
       "metadata": {},
       "output_type": "pyout",
       "prompt_number": 201,
       "text": [
        "2-element Array{Int64,1}:\n",
        " 1\n",
        " 4"
       ]
      }
     ],
     "prompt_number": 201
    },
    {
     "cell_type": "code",
     "collapsed": false,
     "input": [
      "typeof(Vector)"
     ],
     "language": "python",
     "metadata": {},
     "outputs": [
      {
       "metadata": {},
       "output_type": "pyout",
       "prompt_number": 211,
       "text": [
        "TypeConstructor"
       ]
      }
     ],
     "prompt_number": 211
    },
    {
     "cell_type": "code",
     "collapsed": false,
     "input": [
      "typeof(String)"
     ],
     "language": "python",
     "metadata": {},
     "outputs": [
      {
       "metadata": {},
       "output_type": "pyout",
       "prompt_number": 217,
       "text": [
        "DataType"
       ]
      }
     ],
     "prompt_number": 217
    },
    {
     "cell_type": "code",
     "collapsed": false,
     "input": [
      "typeof(TypeConstructor)"
     ],
     "language": "python",
     "metadata": {},
     "outputs": [
      {
       "metadata": {},
       "output_type": "pyout",
       "prompt_number": 214,
       "text": [
        "DataType"
       ]
      }
     ],
     "prompt_number": 214
    },
    {
     "cell_type": "code",
     "collapsed": false,
     "input": [
      "AllowedTypes = Union(Integer, Range{Integer}, Range1{Integer}, Vector{Int64}, Array{Int64}, Matrix{Int64})"
     ],
     "language": "python",
     "metadata": {},
     "outputs": [
      {
       "metadata": {},
       "output_type": "pyout",
       "prompt_number": 286,
       "text": [
        "Union(Array{Int64,N},Range{Integer},Integer,Range1{Integer})"
       ]
      }
     ],
     "prompt_number": 286
    },
    {
     "cell_type": "code",
     "collapsed": false,
     "input": [
      "2:2:8 :: AllowedTypes"
     ],
     "language": "python",
     "metadata": {},
     "outputs": [
      {
       "metadata": {},
       "output_type": "pyout",
       "prompt_number": 287,
       "text": [
        "2:2:8"
       ]
      }
     ],
     "prompt_number": 287
    },
    {
     "cell_type": "code",
     "collapsed": false,
     "input": [
      "A :: AllowedTypes"
     ],
     "language": "python",
     "metadata": {},
     "outputs": [
      {
       "metadata": {},
       "output_type": "pyout",
       "prompt_number": 288,
       "text": [
        "6-element Array{Int64,1}:\n",
        "  1\n",
        "  5\n",
        " 99\n",
        " 21\n",
        "  0\n",
        "  5"
       ]
      }
     ],
     "prompt_number": 288
    },
    {
     "cell_type": "code",
     "collapsed": false,
     "input": [
      "v = [1 2 3 4 5 6]"
     ],
     "language": "python",
     "metadata": {},
     "outputs": [
      {
       "metadata": {},
       "output_type": "pyout",
       "prompt_number": 289,
       "text": [
        "1x6 Array{Int64,2}:\n",
        " 1  2  3  4  5  6"
       ]
      }
     ],
     "prompt_number": 289
    },
    {
     "cell_type": "code",
     "collapsed": false,
     "input": [
      "+{S,T}(A::Union(Array{S,N},SubArray{S,N,A<:Array{T,N},I<:(Union(Range1{Int64},Int64,Range{Int64})...,)}),B::Union(Array{T,N},SubArray{T,N,A<:Array{T,N},I<:(Union(Range1{Int64},Int64,Range{Int64})...,)}))"
     ],
     "language": "python",
     "metadata": {},
     "outputs": [
      {
       "ename": "LoadError",
       "evalue": "S not defined\nat In[266]:1",
       "output_type": "pyerr",
       "traceback": [
        "S not defined\nat In[266]:1"
       ]
      }
     ],
     "prompt_number": 266
    },
    {
     "cell_type": "code",
     "collapsed": false,
     "input": [
      "v :: AllowedTypes"
     ],
     "language": "python",
     "metadata": {},
     "outputs": [
      {
       "metadata": {},
       "output_type": "pyout",
       "prompt_number": 290,
       "text": [
        "1x6 Array{Int64,2}:\n",
        " 1  2  3  4  5  6"
       ]
      }
     ],
     "prompt_number": 290
    },
    {
     "cell_type": "code",
     "collapsed": false,
     "input": [
      "v[6]"
     ],
     "language": "python",
     "metadata": {},
     "outputs": [
      {
       "metadata": {},
       "output_type": "pyout",
       "prompt_number": 291,
       "text": [
        "6"
       ]
      }
     ],
     "prompt_number": 291
    },
    {
     "cell_type": "code",
     "collapsed": false,
     "input": [
      "typeof(DataFrame)"
     ],
     "language": "python",
     "metadata": {},
     "outputs": [
      {
       "metadata": {},
       "output_type": "pyout",
       "prompt_number": 293,
       "text": [
        "Array{Int64,1}"
       ]
      }
     ],
     "prompt_number": 293
    },
    {
     "cell_type": "code",
     "collapsed": false,
     "input": [
      "RangeIndex = Union(Int, Range{Int}, Range1{Int}, Array{Int})\n",
      "\n",
      "function negated_index(A::Vector, i::RangeIndex)\n",
      "\tn = length(A)\n",
      "\tif !(1 <= minimum(i) && maximum(i) <= n)\n",
      "        throw(BoundsError())\n",
      "    end\n",
      "    b = deepcopy(A)\n",
      "    c = 0\n",
      "    for k=1:n\n",
      "        if k in i\n",
      "            splice!(b, k-c)\n",
      "        \tc += 1\n",
      "        end\n",
      "    end\n",
      "    return b\n",
      "end"
     ],
     "language": "python",
     "metadata": {},
     "outputs": [
      {
       "metadata": {},
       "output_type": "pyout",
       "prompt_number": 301,
       "text": [
        "negated_index (generic function with 6 methods)"
       ]
      }
     ],
     "prompt_number": 301
    },
    {
     "cell_type": "code",
     "collapsed": false,
     "input": [
      "negated_index(A,[11])"
     ],
     "language": "python",
     "metadata": {},
     "outputs": [
      {
       "ename": "LoadError",
       "evalue": "BoundsError()\nat In[318]:1",
       "output_type": "pyerr",
       "traceback": [
        "BoundsError()\nat In[318]:1",
        " in negated_index at In[301]:6"
       ]
      }
     ],
     "prompt_number": 318
    },
    {
     "cell_type": "code",
     "collapsed": false,
     "input": [
      "negated_index(A,[4,1,6])"
     ],
     "language": "python",
     "metadata": {},
     "outputs": [
      {
       "metadata": {},
       "output_type": "pyout",
       "prompt_number": 313,
       "text": [
        "3-element Array{Int64,1}:\n",
        "  5\n",
        " 99\n",
        "  0"
       ]
      }
     ],
     "prompt_number": 313
    },
    {
     "cell_type": "code",
     "collapsed": false,
     "input": [
      "A"
     ],
     "language": "python",
     "metadata": {},
     "outputs": [
      {
       "metadata": {},
       "output_type": "pyout",
       "prompt_number": 312,
       "text": [
        "6-element Array{Int64,1}:\n",
        "  1\n",
        "  5\n",
        " 99\n",
        " 21\n",
        "  0\n",
        "  5"
       ]
      }
     ],
     "prompt_number": 312
    },
    {
     "cell_type": "code",
     "collapsed": false,
     "input": [
      "getindex(A, 2.9)"
     ],
     "language": "python",
     "metadata": {},
     "outputs": [
      {
       "ename": "LoadError",
       "evalue": "InexactError()\nat In[320]:1",
       "output_type": "pyerr",
       "traceback": [
        "InexactError()\nat In[320]:1",
        " in getindex at array.jl:275"
       ]
      }
     ],
     "prompt_number": 320
    },
    {
     "cell_type": "code",
     "collapsed": false,
     "input": [
      "typealias RangeIndices Union(Int, Range1{Int})\n",
      "\n",
      "\n",
      "type NegatedIndex{T<:RangeIndices}\n",
      "    idx::T\n",
      "    # step::Int\n",
      "    # len::Int\n",
      "\n",
      "    # function NegatedIndex(idx)\n",
      "    #     len = length(idx::T)\n",
      "    #     new(idx, 1, len)\n",
      "    # end\n",
      "end\n",
      "\n",
      "function getindex(A::Array, idx::NegatedIndex)\n",
      "    n = Base.length(A)\n",
      "    # if !(1 <= minimum(idx) && maximum(idx) <= n)\n",
      "    #     throw(BoundsError())\n",
      "    # end\n",
      "    b = deepcopy(A)\n",
      "    c = 0\n",
      "    for k=1:n\n",
      "        if k in idx  #for i in fullindex(idx, size(A,n))\n",
      "            splice!(b, k-c)\n",
      "            c += 1\n",
      "        end\n",
      "    end\n",
      "    return b\n",
      "end\n",
      "\n",
      "step(r::NegatedIndex) = 1\n",
      "\n",
      "function in(x, r::NegatedIndex)\n",
      "    n = step(r) == 0 ? 1 : iround((x-first(r))/step(r))+1\n",
      "    n >= 1 && n <= length(r) && r[n] == x\n",
      "end\n",
      "\n",
      "function length(idx::NegatedIndex)\n",
      "    return Base.length(idx)\n",
      "end\n",
      "\n",
      "function minimum(idx::NegatedIndex)\n",
      "    len = length(idx)\n",
      "    m = idx[1]\n",
      "    for x=1:len\n",
      "        if idx[x] < m\n",
      "            m = idx[x]\n",
      "        end\n",
      "    end\n",
      "    return m\n",
      "end\n",
      "\n",
      "function maximum(idx::NegatedIndex)\n",
      "    len = length(idx)\n",
      "    m = idx[1]\n",
      "    for x=1:len\n",
      "        if idx[x] < m\n",
      "            m = idx[x]\n",
      "        end\n",
      "    end\n",
      "    return m\n",
      "end\n",
      "\n",
      "## Bounds checking ##\n",
      "function checkbounds(idx::NegatedIndex, A::Array)\n",
      "    I = to_index(idx)\n",
      "    if I < 1 || I > sz\n",
      "        throw(BoundsError())\n",
      "    end\n",
      "end\n",
      "\n",
      "(!)(x::Int) = NegatedIndex(x)\n",
      "# (!)(x::Range{Int}) = NegatedIndex(x)\n",
      "(!)(x::Range1{Int}) = NegatedIndex(x)\n",
      "# (!)(x::Array{Int}) = NegatedIndex(x)\n"
     ],
     "language": "python",
     "metadata": {},
     "outputs": [
      {
       "metadata": {},
       "output_type": "pyout",
       "prompt_number": 1,
       "text": [
        "! (generic function with 5 methods)"
       ]
      }
     ],
     "prompt_number": 1
    },
    {
     "cell_type": "code",
     "collapsed": false,
     "input": [
      "A = [1, 5, 7, 2, 4, 99, 21, 0, 5]"
     ],
     "language": "python",
     "metadata": {},
     "outputs": [
      {
       "metadata": {},
       "output_type": "pyout",
       "prompt_number": 2,
       "text": [
        "9-element Array{Int64,1}:\n",
        "  1\n",
        "  5\n",
        "  7\n",
        "  2\n",
        "  4\n",
        " 99\n",
        " 21\n",
        "  0\n",
        "  5"
       ]
      }
     ],
     "prompt_number": 2
    },
    {
     "cell_type": "code",
     "collapsed": false,
     "input": [
      "!(1)"
     ],
     "language": "python",
     "metadata": {},
     "outputs": [
      {
       "metadata": {},
       "output_type": "pyout",
       "prompt_number": 3,
       "text": [
        "NegatedIndex{Int64}(1)"
       ]
      }
     ],
     "prompt_number": 3
    },
    {
     "cell_type": "code",
     "collapsed": false,
     "input": [
      "A[!1]"
     ],
     "language": "python",
     "metadata": {},
     "outputs": [
      {
       "ename": "LoadError",
       "evalue": "no method start(NegatedIndex{Int64},)\nat In[4]:1",
       "output_type": "pyerr",
       "traceback": [
        "no method start(NegatedIndex{Int64},)\nat In[4]:1",
        " in in at In[1]:34",
        " in getindex at In[1]:23"
       ]
      }
     ],
     "prompt_number": 4
    },
    {
     "cell_type": "code",
     "collapsed": false,
     "input": [
      "import Base.in\n",
      "function in(x, r::NegatedIndex)\n",
      "    n = step(r) == 0 ? 1 : iround((x-first(r))/step(r))+1\n",
      "    n >= 1 && n <= length(r) && r[n] == x\n",
      "end"
     ],
     "language": "python",
     "metadata": {},
     "outputs": [
      {
       "metadata": {},
       "output_type": "pyout",
       "prompt_number": 18,
       "text": [
        "in (generic function with 15 methods)"
       ]
      }
     ],
     "prompt_number": 18
    },
    {
     "cell_type": "code",
     "collapsed": false,
     "input": [],
     "language": "python",
     "metadata": {},
     "outputs": []
    },
    {
     "cell_type": "code",
     "collapsed": false,
     "input": [
      "String(\"567657dgfdfg\")"
     ],
     "language": "python",
     "metadata": {},
     "outputs": [
      {
       "ename": "LoadError",
       "evalue": "type cannot be constructed\nat In[11]:1",
       "output_type": "pyerr",
       "traceback": [
        "type cannot be constructed\nat In[11]:1"
       ]
      }
     ],
     "prompt_number": 11
    },
    {
     "cell_type": "code",
     "collapsed": false,
     "input": [
      "function getindex(A::Array, i::NegatedAIndex4)\n",
      "\tn = length(A)\n",
      "\tif !(1 <= minimum(i) && maximum(i) <= n)\n",
      "        throw(BoundsError())\n",
      "    end\n",
      "    b = copy(A)\n",
      "    c = 0\n",
      "    for k=1:n\n",
      "        if k in i\n",
      "            splice!(b, k-c)\n",
      "        \tc += 1\n",
      "        end\n",
      "    end\n",
      "    return b\n",
      "end\n",
      "\n",
      "copy(idx::RangeIndices) = idx\n",
      "\n",
      "getindex(A::Array, i::NegatedIndex4) = getindex(A,i)\n",
      "len(i::NegatedIndex4) = len(i)\n",
      "\n",
      "!(A::Array,x::RangeIndices) = getindex(A, NegatedIndex4(x))"
     ],
     "language": "python",
     "metadata": {},
     "outputs": [
      {
       "metadata": {},
       "output_type": "pyout",
       "prompt_number": 381,
       "text": [
        "! (generic function with 6 methods)"
       ]
      }
     ],
     "prompt_number": 381
    },
    {
     "cell_type": "code",
     "collapsed": false,
     "input": [
      "A[!2]"
     ],
     "language": "python",
     "metadata": {},
     "outputs": [
      {
       "ename": "LoadError",
       "evalue": "type NegatedIndex has no field len\nat In[382]:1",
       "output_type": "pyerr",
       "traceback": [
        "type NegatedIndex has no field len\nat In[382]:1",
        " in minimum at range.jl:102",
        " in getindex at In[356]:3",
        " in ! at In[339]:21"
       ]
      }
     ],
     "prompt_number": 382
    },
    {
     "cell_type": "code",
     "collapsed": false,
     "input": [
      "A[!(1:4)]"
     ],
     "language": "python",
     "metadata": {},
     "outputs": [
      {
       "ename": "LoadError",
       "evalue": "type: typeassert: expected NegatedIndex{T<:Union(Range1{Int64},Range{Int64},Array{Int64,N},Int64)}, got Range1{Int64}\nat In[334]:1",
       "output_type": "pyerr",
       "traceback": [
        "type: typeassert: expected NegatedIndex{T<:Union(Range1{Int64},Range{Int64},Array{Int64,N},Int64)}, got Range1{Int64}\nat In[334]:1",
        " in ! at In[329]:21"
       ]
      }
     ],
     "prompt_number": 334
    },
    {
     "cell_type": "code",
     "collapsed": false,
     "input": [
      "NegatedIndex4(9)"
     ],
     "language": "python",
     "metadata": {},
     "outputs": [
      {
       "ename": "LoadError",
       "evalue": "no method NegatedIndex4{T<:Union(Range1{Int64},Range{Int64},Array{Int64,N},Int64),N}(Int64,)\nat In[383]:1",
       "output_type": "pyerr",
       "traceback": [
        "no method NegatedIndex4{T<:Union(Range1{Int64},Range{Int64},Array{Int64,N},Int64),N}(Int64,)\nat In[383]:1"
       ]
      }
     ],
     "prompt_number": 383
    },
    {
     "cell_type": "code",
     "collapsed": false,
     "input": [
      "function getnegindex(A::Array, i::NegatedIndex)\n",
      "\tn = length(A)\n",
      "\tif !(1 <= minimum(i) && maximum(i) <= n)\n",
      "        throw(BoundsError())\n",
      "    end\n",
      "    b = deepcopy(A)\n",
      "    c = 0\n",
      "    for k=1:n\n",
      "        if k in i\n",
      "            splice!(b, k-c)\n",
      "        \tc += 1\n",
      "        end\n",
      "    end\n",
      "    return b\n",
      "end"
     ],
     "language": "python",
     "metadata": {},
     "outputs": [
      {
       "metadata": {},
       "output_type": "pyout",
       "prompt_number": 395,
       "text": [
        "getnegindex (generic function with 2 methods)"
       ]
      }
     ],
     "prompt_number": 395
    },
    {
     "cell_type": "code",
     "collapsed": false,
     "input": [
      "getnegindex(A, 2)"
     ],
     "language": "python",
     "metadata": {},
     "outputs": [
      {
       "metadata": {},
       "output_type": "pyout",
       "prompt_number": 399,
       "text": [
        "5-element Array{Int64,1}:\n",
        "  1\n",
        " 99\n",
        " 21\n",
        "  0\n",
        "  5"
       ]
      }
     ],
     "prompt_number": 399
    },
    {
     "cell_type": "code",
     "collapsed": false,
     "input": [
      "A"
     ],
     "language": "python",
     "metadata": {},
     "outputs": [
      {
       "metadata": {},
       "output_type": "pyout",
       "prompt_number": 388,
       "text": [
        "6-element Array{Int64,1}:\n",
        "  1\n",
        "  5\n",
        " 99\n",
        " 21\n",
        "  0\n",
        "  5"
       ]
      }
     ],
     "prompt_number": 388
    },
    {
     "cell_type": "code",
     "collapsed": false,
     "input": [
      "length(A)"
     ],
     "language": "python",
     "metadata": {},
     "outputs": [
      {
       "metadata": {},
       "output_type": "pyout",
       "prompt_number": 400,
       "text": [
        "6"
       ]
      }
     ],
     "prompt_number": 400
    },
    {
     "cell_type": "code",
     "collapsed": false,
     "input": [
      "minimum(!1)"
     ],
     "language": "python",
     "metadata": {},
     "outputs": [
      {
       "ename": "LoadError",
       "evalue": "type NegatedIndex has no field len\nat In[402]:1",
       "output_type": "pyerr",
       "traceback": [
        "type NegatedIndex has no field len\nat In[402]:1",
        " in minimum at range.jl:102",
        " in getindex at In[356]:3",
        " in ! at In[339]:21"
       ]
      }
     ],
     "prompt_number": 402
    },
    {
     "cell_type": "code",
     "collapsed": false,
     "input": [
      "in("
     ],
     "language": "python",
     "metadata": {},
     "outputs": [
      {
       "metadata": {},
       "output_type": "pyout",
       "prompt_number": 410,
       "text": [
        "in (generic function with 14 methods)"
       ]
      }
     ],
     "prompt_number": 410
    },
    {
     "cell_type": "code",
     "collapsed": false,
     "input": [
      "min(9,7,5)"
     ],
     "language": "python",
     "metadata": {},
     "outputs": [
      {
       "metadata": {},
       "output_type": "pyout",
       "prompt_number": 17,
       "text": [
        "5"
       ]
      }
     ],
     "prompt_number": 17
    },
    {
     "cell_type": "code",
     "collapsed": false,
     "input": [
      "minimum(9,7,5)"
     ],
     "language": "python",
     "metadata": {},
     "outputs": [
      {
       "ename": "LoadError",
       "evalue": "no method minimum(Int64,Int64,Int64)\nat In[18]:1",
       "output_type": "pyerr",
       "traceback": [
        "no method minimum(Int64,Int64,Int64)\nat In[18]:1"
       ]
      }
     ],
     "prompt_number": 18
    },
    {
     "cell_type": "code",
     "collapsed": false,
     "input": [
      "# typealias RangeIndices Union(Int, Range1{Int})\n",
      "# type NegatedIndex{T<:RangeIndices}\n",
      "#     idx::T\n",
      "#     step::Int\n",
      "# end\n",
      "\n",
      "function getindex(A::Array, r::NegatedIndex)\n",
      "    n = Base.length(A)\n",
      "    if !(1 <= minimum(r.idx) && maximum(r.idx) <= n)\n",
      "        throw(BoundsError())\n",
      "    end\n",
      "    b = deepcopy(A)\n",
      "    c = 0\n",
      "    for k=1:n\n",
      "        if k in r  #for i in fullindex(idx, size(A,n))\n",
      "            splice!(b, k-c)\n",
      "            c += 1\n",
      "        end\n",
      "    end\n",
      "    return b\n",
      "end\n",
      "\n",
      "import Base.first\n",
      "function first(r::NegatedIndex)\n",
      "    first(r.idx)\n",
      "end\n",
      "\n",
      "import Base.length\n",
      "function length(r::NegatedIndex)\n",
      "    return length(r.idx)\n",
      "end\n",
      "\n",
      "function getindex(r::NegatedIndex, x)\n",
      "    r.idx[x]\n",
      "end\n",
      "\n",
      "function in(x, r::NegatedIndex)\n",
      "    n = r.step == 0 ? 1 : iround((x-first(r))/r.step)+1\n",
      "    n >= 1 && n <= length(r) && r[n] == x\n",
      "#     n = r.step == 0 ? 1 : iround((x-first(r))/r.step)+1\n",
      "#     n >= 1 && n <= length(r) && r[n] == x\n",
      "end\n",
      "\n",
      "A = [1, 5, 7, 2, 4, 99, 21, 0, 5]\n",
      "n = NegatedIndex(2, 1)\n",
      "# getindex(A, n)\n",
      "A[n]"
     ],
     "language": "python",
     "metadata": {},
     "outputs": [
      {
       "metadata": {},
       "output_type": "pyout",
       "prompt_number": 47,
       "text": [
        "8-element Array{Int64,1}:\n",
        "  1\n",
        "  7\n",
        "  2\n",
        "  4\n",
        " 99\n",
        " 21\n",
        "  0\n",
        "  5"
       ]
      }
     ],
     "prompt_number": 47
    },
    {
     "cell_type": "code",
     "collapsed": false,
     "input": [
      "print(n)\n"
     ],
     "language": "python",
     "metadata": {},
     "outputs": [
      {
       "output_type": "stream",
       "stream": "stdout",
       "text": [
        "NegatedIndex{"
       ]
      },
      {
       "output_type": "stream",
       "stream": "stdout",
       "text": [
        "Int64}(2,1)"
       ]
      }
     ],
     "prompt_number": 38
    },
    {
     "cell_type": "code",
     "collapsed": false,
     "input": [
      "typealias RangeIndices Union(Int, Range1{Int}, Range{Int}, Array{Int})\n",
      "\n",
      "# Define new type to handle negated index of !idx\n",
      "type NegatedIndex{T<:RangeIndices}\n",
      "    idx::T\n",
      "    step::Int\n",
      "end\n",
      "\n",
      "function getindex(A::Array, r::NegatedIndex)\n",
      "    n = Base.length(A)\n",
      "    if !(1 <= minimum(r.idx) && maximum(r.idx) <= n)\n",
      "        throw(BoundsError())\n",
      "    end\n",
      "    b = deepcopy(A)\n",
      "    c = 0\n",
      "    for k=1:n\n",
      "        if k in r\n",
      "            splice!(b, k-c)\n",
      "            c += 1\n",
      "        end\n",
      "    end\n",
      "    return b\n",
      "end\n",
      "\n",
      "function getindex(r::NegatedIndex, x)\n",
      "    r.idx[x]\n",
      "end\n",
      "\n",
      "import Base.first\n",
      "function first(r::NegatedIndex)\n",
      "    first(r.idx)\n",
      "end\n",
      "\n",
      "import Base.length\n",
      "function length(r::NegatedIndex)\n",
      "    return length(r.idx)\n",
      "end\n",
      "\n",
      "function in(x, r::NegatedIndex)\n",
      "    n = r.step == 0 ? 1 : iround((x-first(r))/r.step)+1\n",
      "    n >= 1 && n <= length(r) && r[n] == x\n",
      "end\n",
      "\n",
      "# Define operator ! to return a NegatedIndex type\n",
      "(!)(r::Int) = NegatedIndex(r,1)\n",
      "(!)(r::Range{Int}) = NegatedIndex(r,r.step)\n",
      "(!)(r::Range1{Int}) = NegatedIndex(r,1)\n",
      "(!)(r::Array{Int}) = NegatedIndex(r,1)\n"
     ],
     "language": "python",
     "metadata": {},
     "outputs": [
      {
       "metadata": {},
       "output_type": "pyout",
       "prompt_number": 1,
       "text": [
        "! (generic function with 7 methods)"
       ]
      }
     ],
     "prompt_number": 1
    },
    {
     "cell_type": "code",
     "collapsed": false,
     "input": [
      "A = [1, 5, 7, 2, 4, 99, 21, 0, 5]"
     ],
     "language": "python",
     "metadata": {},
     "outputs": [
      {
       "metadata": {},
       "output_type": "pyout",
       "prompt_number": 2,
       "text": [
        "9-element Array{Int64,1}:\n",
        "  1\n",
        "  5\n",
        "  7\n",
        "  2\n",
        "  4\n",
        " 99\n",
        " 21\n",
        "  0\n",
        "  5"
       ]
      }
     ],
     "prompt_number": 2
    },
    {
     "cell_type": "code",
     "collapsed": false,
     "input": [
      "A[!1]"
     ],
     "language": "python",
     "metadata": {},
     "outputs": [
      {
       "metadata": {},
       "output_type": "pyout",
       "prompt_number": 3,
       "text": [
        "8-element Array{Int64,1}:\n",
        "  5\n",
        "  7\n",
        "  2\n",
        "  4\n",
        " 99\n",
        " 21\n",
        "  0\n",
        "  5"
       ]
      }
     ],
     "prompt_number": 3
    },
    {
     "cell_type": "code",
     "collapsed": false,
     "input": [
      "A[!3]"
     ],
     "language": "python",
     "metadata": {},
     "outputs": [
      {
       "metadata": {},
       "output_type": "pyout",
       "prompt_number": 4,
       "text": [
        "8-element Array{Int64,1}:\n",
        "  1\n",
        "  5\n",
        "  2\n",
        "  4\n",
        " 99\n",
        " 21\n",
        "  0\n",
        "  5"
       ]
      }
     ],
     "prompt_number": 4
    },
    {
     "cell_type": "code",
     "collapsed": false,
     "input": [
      "A[!(2:2:6)]"
     ],
     "language": "python",
     "metadata": {},
     "outputs": [
      {
       "metadata": {},
       "output_type": "pyout",
       "prompt_number": 5,
       "text": [
        "6-element Array{Int64,1}:\n",
        "  1\n",
        "  7\n",
        "  4\n",
        " 21\n",
        "  0\n",
        "  5"
       ]
      }
     ],
     "prompt_number": 5
    },
    {
     "cell_type": "code",
     "collapsed": false,
     "input": [
      "A[!c]"
     ],
     "language": "python",
     "metadata": {},
     "outputs": [
      {
       "metadata": {},
       "output_type": "pyout",
       "prompt_number": 8,
       "text": [
        "8-element Array{Int64,1}:\n",
        "  5\n",
        "  7\n",
        "  2\n",
        "  4\n",
        " 99\n",
        " 21\n",
        "  0\n",
        "  5"
       ]
      }
     ],
     "prompt_number": 8
    },
    {
     "cell_type": "code",
     "collapsed": false,
     "input": [
      "c = [1,3,5]"
     ],
     "language": "python",
     "metadata": {},
     "outputs": [
      {
       "metadata": {},
       "output_type": "pyout",
       "prompt_number": 7,
       "text": [
        "3-element Array{Int64,1}:\n",
        " 1\n",
        " 3\n",
        " 5"
       ]
      }
     ],
     "prompt_number": 7
    },
    {
     "cell_type": "code",
     "collapsed": false,
     "input": [
      "c"
     ],
     "language": "python",
     "metadata": {},
     "outputs": []
    }
   ],
   "metadata": {}
  }
 ]
}