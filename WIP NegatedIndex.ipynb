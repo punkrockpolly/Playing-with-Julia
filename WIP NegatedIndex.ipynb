{
 "metadata": {
  "language": "Julia",
  "name": ""
 },
 "nbformat": 3,
 "nbformat_minor": 0,
 "worksheets": [
  {
   "cells": [
    {
     "cell_type": "code",
     "collapsed": false,
     "input": [
      "pwd()"
     ],
     "language": "python",
     "metadata": {},
     "outputs": [
      {
       "metadata": {},
       "output_type": "pyout",
       "prompt_number": 1,
       "text": [
        "\"/Users/polina/Dev/Juliacode\""
       ]
      }
     ],
     "prompt_number": 1
    },
    {
     "cell_type": "code",
     "collapsed": false,
     "input": [
      "A = [1, 5, 7, 2, 4, 99, 21, 0, 5]"
     ],
     "language": "python",
     "metadata": {},
     "outputs": [
      {
       "metadata": {},
       "output_type": "pyout",
       "prompt_number": 81,
       "text": [
        "9-element Array{Int64,1}:\n",
        "  1\n",
        "  5\n",
        "  7\n",
        "  2\n",
        "  4\n",
        " 99\n",
        " 21\n",
        "  0\n",
        "  5"
       ]
      }
     ],
     "prompt_number": 81
    },
    {
     "cell_type": "code",
     "collapsed": false,
     "input": [
      "x = splice!(A, 4)"
     ],
     "language": "python",
     "metadata": {},
     "outputs": [
      {
       "metadata": {},
       "output_type": "pyout",
       "prompt_number": 6,
       "text": [
        "2"
       ]
      }
     ],
     "prompt_number": 6
    },
    {
     "cell_type": "code",
     "collapsed": false,
     "input": [
      "B = [1 5 7 2 4 99 21 0 5]"
     ],
     "language": "python",
     "metadata": {},
     "outputs": [
      {
       "metadata": {},
       "output_type": "pyout",
       "prompt_number": 7,
       "text": [
        "1x9 Array{Int64,2}:\n",
        " 1  5  7  2  4  99  21  0  5"
       ]
      }
     ],
     "prompt_number": 7
    },
    {
     "cell_type": "code",
     "collapsed": false,
     "input": [
      "x = splice!(B, 4)"
     ],
     "language": "python",
     "metadata": {},
     "outputs": [
      {
       "ename": "LoadError",
       "evalue": "no method splice!(Array{Int64,2},Int64)\nat In[8]:1",
       "output_type": "pyerr",
       "traceback": [
        "no method splice!(Array{Int64,2},Int64)\nat In[8]:1"
       ]
      }
     ],
     "prompt_number": 8
    },
    {
     "cell_type": "code",
     "collapsed": false,
     "input": [
      "function negatedindex(input_array, n) # where n is an array or int\n",
      "    temp_array = deepcopy(input_array)\n",
      "    for i=1:length(temp_array)\n",
      "        if i in n\n",
      "            splice!(temp_array, i)\n",
      "        end\n",
      "    end\n",
      "    return temp_array\n",
      "end"
     ],
     "language": "python",
     "metadata": {},
     "outputs": [
      {
       "metadata": {},
       "output_type": "pyout",
       "prompt_number": 108,
       "text": [
        "negatedindex (generic function with 1 method)"
       ]
      }
     ],
     "prompt_number": 108
    },
    {
     "cell_type": "code",
     "collapsed": false,
     "input": [
      "A"
     ],
     "language": "python",
     "metadata": {},
     "outputs": [
      {
       "metadata": {},
       "output_type": "pyout",
       "prompt_number": 109,
       "text": [
        "6-element Array{Int64,1}:\n",
        "  1\n",
        "  5\n",
        " 99\n",
        " 21\n",
        "  0\n",
        "  5"
       ]
      }
     ],
     "prompt_number": 109
    },
    {
     "cell_type": "code",
     "collapsed": false,
     "input": [
      "negatedindex(A, 3)"
     ],
     "language": "python",
     "metadata": {},
     "outputs": [
      {
       "metadata": {},
       "output_type": "pyout",
       "prompt_number": 111,
       "text": [
        "5-element Array{Int64,1}:\n",
        "  1\n",
        "  5\n",
        " 21\n",
        "  0\n",
        "  5"
       ]
      }
     ],
     "prompt_number": 111
    },
    {
     "cell_type": "code",
     "collapsed": false,
     "input": [
      "negatedindex(A, c)"
     ],
     "language": "python",
     "metadata": {},
     "outputs": [
      {
       "metadata": {},
       "output_type": "pyout",
       "prompt_number": 37,
       "text": [
        "8-element Array{Int64,1}:\n",
        "  1\n",
        "  5\n",
        "  2\n",
        "  4\n",
        " 99\n",
        " 21\n",
        "  0\n",
        "  5"
       ]
      }
     ],
     "prompt_number": 37
    },
    {
     "cell_type": "code",
     "collapsed": false,
     "input": [
      "c"
     ],
     "language": "python",
     "metadata": {},
     "outputs": [
      {
       "metadata": {},
       "output_type": "pyout",
       "prompt_number": 38,
       "text": [
        "2-element Array{Int64,1}:\n",
        " 1\n",
        " 4"
       ]
      }
     ],
     "prompt_number": 38
    },
    {
     "cell_type": "code",
     "collapsed": false,
     "input": [
      "filter(function, collection)\n",
      "# Return a copy of collection, removing (key, value) pairs for which function is false."
     ],
     "language": "python",
     "metadata": {},
     "outputs": [
      {
       "output_type": "stream",
       "stream": "stdout",
       "text": [
        "15"
       ]
      },
      {
       "output_type": "stream",
       "stream": "stdout",
       "text": [
        "74992105"
       ]
      }
     ],
     "prompt_number": 16
    },
    {
     "cell_type": "code",
     "collapsed": false,
     "input": [
      "c = [1,4]"
     ],
     "language": "python",
     "metadata": {},
     "outputs": [
      {
       "metadata": {},
       "output_type": "pyout",
       "prompt_number": 28,
       "text": [
        "2-element Array{Int64,1}:\n",
        " 1\n",
        " 4"
       ]
      }
     ],
     "prompt_number": 28
    },
    {
     "cell_type": "code",
     "collapsed": false,
     "input": [
      "negatedindex(A, c)"
     ],
     "language": "python",
     "metadata": {},
     "outputs": [
      {
       "metadata": {},
       "output_type": "pyout",
       "prompt_number": 112,
       "text": [
        "4-element Array{Int64,1}:\n",
        "  5\n",
        " 99\n",
        " 21\n",
        "  5"
       ]
      }
     ],
     "prompt_number": 112
    },
    {
     "cell_type": "code",
     "collapsed": false,
     "input": [
      "negatedindex(A, 1)"
     ],
     "language": "python",
     "metadata": {},
     "outputs": [
      {
       "metadata": {},
       "output_type": "pyout",
       "prompt_number": 31,
       "text": [
        "3-element Array{Int64,1}:\n",
        " 99\n",
        " 21\n",
        "  5"
       ]
      }
     ],
     "prompt_number": 31
    },
    {
     "cell_type": "code",
     "collapsed": false,
     "input": [
      "B"
     ],
     "language": "python",
     "metadata": {},
     "outputs": [
      {
       "metadata": {},
       "output_type": "pyout",
       "prompt_number": 57,
       "text": [
        "1x9 Array{Int64,2}:\n",
        " 1  5  7  2  4  99  21  0  5"
       ]
      }
     ],
     "prompt_number": 57
    },
    {
     "cell_type": "code",
     "collapsed": false,
     "input": [
      "f = deepcopy(B)"
     ],
     "language": "python",
     "metadata": {},
     "outputs": [
      {
       "metadata": {},
       "output_type": "pyout",
       "prompt_number": 70,
       "text": [
        "9x1 Array{Int64,2}:\n",
        "  5\n",
        "  5\n",
        "  7\n",
        "  2\n",
        "  4\n",
        " 99\n",
        " 21\n",
        "  0\n",
        "  5"
       ]
      }
     ],
     "prompt_number": 70
    },
    {
     "cell_type": "code",
     "collapsed": false,
     "input": [
      "B = deepcopy(A)"
     ],
     "language": "python",
     "metadata": {},
     "outputs": [
      {
       "metadata": {},
       "output_type": "pyout",
       "prompt_number": 82,
       "text": [
        "9-element Array{Int64,1}:\n",
        "  1\n",
        "  5\n",
        "  7\n",
        "  2\n",
        "  4\n",
        " 99\n",
        " 21\n",
        "  0\n",
        "  5"
       ]
      }
     ],
     "prompt_number": 82
    },
    {
     "cell_type": "code",
     "collapsed": false,
     "input": [
      "B = B[1]"
     ],
     "language": "python",
     "metadata": {},
     "outputs": [
      {
       "metadata": {},
       "output_type": "pyout",
       "prompt_number": 78,
       "text": [
        "1"
       ]
      }
     ],
     "prompt_number": 78
    },
    {
     "cell_type": "code",
     "collapsed": false,
     "input": [
      "f = deepcopy(B)"
     ],
     "language": "python",
     "metadata": {},
     "outputs": [
      {
       "metadata": {},
       "output_type": "pyout",
       "prompt_number": 83,
       "text": [
        "9-element Array{Int64,1}:\n",
        "  1\n",
        "  5\n",
        "  7\n",
        "  2\n",
        "  4\n",
        " 99\n",
        " 21\n",
        "  0\n",
        "  5"
       ]
      }
     ],
     "prompt_number": 83
    },
    {
     "cell_type": "code",
     "collapsed": false,
     "input": [
      "x = splice!(B, 2)"
     ],
     "language": "python",
     "metadata": {},
     "outputs": [
      {
       "metadata": {},
       "output_type": "pyout",
       "prompt_number": 84,
       "text": [
        "5"
       ]
      }
     ],
     "prompt_number": 84
    },
    {
     "cell_type": "code",
     "collapsed": false,
     "input": [
      "B"
     ],
     "language": "python",
     "metadata": {},
     "outputs": [
      {
       "metadata": {},
       "output_type": "pyout",
       "prompt_number": 85,
       "text": [
        "8-element Array{Int64,1}:\n",
        "  1\n",
        "  7\n",
        "  2\n",
        "  4\n",
        " 99\n",
        " 21\n",
        "  0\n",
        "  5"
       ]
      }
     ],
     "prompt_number": 85
    },
    {
     "cell_type": "code",
     "collapsed": false,
     "input": [
      "f"
     ],
     "language": "python",
     "metadata": {},
     "outputs": [
      {
       "metadata": {},
       "output_type": "pyout",
       "prompt_number": 86,
       "text": [
        "9-element Array{Int64,1}:\n",
        "  1\n",
        "  5\n",
        "  7\n",
        "  2\n",
        "  4\n",
        " 99\n",
        " 21\n",
        "  0\n",
        "  5"
       ]
      }
     ],
     "prompt_number": 86
    },
    {
     "cell_type": "code",
     "collapsed": false,
     "input": [
      "negatedindex2(B, c)"
     ],
     "language": "python",
     "metadata": {},
     "outputs": [
      {
       "metadata": {},
       "output_type": "pyout",
       "prompt_number": 106,
       "text": [
        "6-element Array{Int64,1}:\n",
        "  7\n",
        "  2\n",
        "  4\n",
        " 21\n",
        "  0\n",
        "  5"
       ]
      }
     ],
     "prompt_number": 106
    },
    {
     "cell_type": "code",
     "collapsed": false,
     "input": [
      "B"
     ],
     "language": "python",
     "metadata": {},
     "outputs": [
      {
       "metadata": {},
       "output_type": "pyout",
       "prompt_number": 107,
       "text": [
        "8-element Array{Int64,1}:\n",
        "  1\n",
        "  7\n",
        "  2\n",
        "  4\n",
        " 99\n",
        " 21\n",
        "  0\n",
        "  5"
       ]
      }
     ],
     "prompt_number": 107
    },
    {
     "cell_type": "code",
     "collapsed": false,
     "input": [
      "B"
     ],
     "language": "python",
     "metadata": {},
     "outputs": [
      {
       "metadata": {},
       "output_type": "pyout",
       "prompt_number": 103,
       "text": [
        "8-element Array{Int64,1}:\n",
        "  1\n",
        "  7\n",
        "  2\n",
        "  4\n",
        " 99\n",
        " 21\n",
        "  0\n",
        "  5"
       ]
      }
     ],
     "prompt_number": 103
    },
    {
     "cell_type": "code",
     "collapsed": false,
     "input": [
      "c"
     ],
     "language": "python",
     "metadata": {},
     "outputs": [
      {
       "metadata": {},
       "output_type": "pyout",
       "prompt_number": 104,
       "text": [
        "2-element Array{Int64,1}:\n",
        " 1\n",
        " 4"
       ]
      }
     ],
     "prompt_number": 104
    },
    {
     "cell_type": "code",
     "collapsed": false,
     "input": [
      "function negated_index(a::Vector, i::Integer)\n",
      "    b = deepcopy(a)\n",
      "    for i=1:length(a)\n",
      "        if k in i\n",
      "            splice!(b, k)\n",
      "        end\n",
      "    end\n",
      "    return b\n",
      "end"
     ],
     "language": "python",
     "metadata": {},
     "outputs": [
      {
       "metadata": {},
       "output_type": "pyout",
       "prompt_number": 113,
       "text": [
        "negated_index (generic function with 1 method)"
       ]
      }
     ],
     "prompt_number": 113
    },
    {
     "cell_type": "code",
     "collapsed": false,
     "input": [
      "negated_index(B, 2)"
     ],
     "language": "python",
     "metadata": {},
     "outputs": [
      {
       "ename": "LoadError",
       "evalue": "k not defined\nat In[114]:1",
       "output_type": "pyerr",
       "traceback": [
        "k not defined\nat In[114]:1",
        " in negated_index at In[113]:4"
       ]
      }
     ],
     "prompt_number": 114
    },
    {
     "cell_type": "code",
     "collapsed": false,
     "input": [
      "function negated_index(a::Vector, i::Integer)\n",
      "    b = deepcopy(a)\n",
      "    for k=1:length(b)\n",
      "        if k in i\n",
      "            splice!(b, k)\n",
      "        end\n",
      "    end\n",
      "    return b\n",
      "end"
     ],
     "language": "python",
     "metadata": {},
     "outputs": [
      {
       "metadata": {},
       "output_type": "pyout",
       "prompt_number": 115,
       "text": [
        "negated_index (generic function with 1 method)"
       ]
      }
     ],
     "prompt_number": 115
    },
    {
     "cell_type": "code",
     "collapsed": false,
     "input": [
      "negated_index(B, 1)"
     ],
     "language": "python",
     "metadata": {},
     "outputs": [
      {
       "metadata": {},
       "output_type": "pyout",
       "prompt_number": 120,
       "text": [
        "7-element Array{Int64,1}:\n",
        "  7\n",
        "  2\n",
        "  4\n",
        " 99\n",
        " 21\n",
        "  0\n",
        "  5"
       ]
      }
     ],
     "prompt_number": 120
    },
    {
     "cell_type": "code",
     "collapsed": false,
     "input": [
      "B"
     ],
     "language": "python",
     "metadata": {},
     "outputs": [
      {
       "metadata": {},
       "output_type": "pyout",
       "prompt_number": 117,
       "text": [
        "8-element Array{Int64,1}:\n",
        "  1\n",
        "  7\n",
        "  2\n",
        "  4\n",
        " 99\n",
        " 21\n",
        "  0\n",
        "  5"
       ]
      }
     ],
     "prompt_number": 117
    },
    {
     "cell_type": "code",
     "collapsed": false,
     "input": [
      "function negated_index{T<:Integer}(a::Vector, r::Range1{T})\n",
      "\tb = deepcopy(a)\n",
      "    for k=1:length(b)\n",
      "        if k in i\n",
      "            splice!(b, k)\n",
      "        end\n",
      "    end\n",
      "    return b\n",
      "end"
     ],
     "language": "python",
     "metadata": {},
     "outputs": [
      {
       "metadata": {},
       "output_type": "pyout",
       "prompt_number": 119,
       "text": [
        "negated_index (generic function with 2 methods)"
       ]
      }
     ],
     "prompt_number": 119
    },
    {
     "cell_type": "code",
     "collapsed": false,
     "input": [
      "negated_index(B, c)"
     ],
     "language": "python",
     "metadata": {},
     "outputs": [
      {
       "ename": "LoadError",
       "evalue": "no method negated_index(Array{Int64,1},Array{Int64,1})\nat In[121]:1",
       "output_type": "pyerr",
       "traceback": [
        "no method negated_index(Array{Int64,1},Array{Int64,1})\nat In[121]:1"
       ]
      }
     ],
     "prompt_number": 121
    },
    {
     "cell_type": "code",
     "collapsed": false,
     "input": [
      "function negated_index(a::Vector, i::Integer)\n",
      "\tn = length(a)\n",
      "\tif !(1 <= i <= n)\n",
      "        throw(BoundsError())\n",
      "    end\n",
      "    b = deepcopy(a)\n",
      "    for k=1:length(b)\n",
      "        if k in i\n",
      "            splice!(b, k)\n",
      "        end\n",
      "    end\n",
      "    return b\n",
      "end"
     ],
     "language": "python",
     "metadata": {},
     "outputs": [
      {
       "metadata": {},
       "output_type": "pyout",
       "prompt_number": 122,
       "text": [
        "negated_index (generic function with 2 methods)"
       ]
      }
     ],
     "prompt_number": 122
    },
    {
     "cell_type": "code",
     "collapsed": false,
     "input": [
      "negated_index(B, 70)"
     ],
     "language": "python",
     "metadata": {},
     "outputs": [
      {
       "ename": "LoadError",
       "evalue": "BoundsError()\nat In[124]:1",
       "output_type": "pyerr",
       "traceback": [
        "BoundsError()\nat In[124]:1",
        " in negated_index at In[122]:4"
       ]
      }
     ],
     "prompt_number": 124
    },
    {
     "cell_type": "code",
     "collapsed": false,
     "input": [
      "function negated_index{T<:Integer}(a::Vector, r::Range1{T})\n",
      "\tn = length(a)\n",
      "\tif !(1 <= minimum(r) && maximum(r) <= n)\n",
      "        throw(BoundsError())\n",
      "    end\n",
      "    b = deepcopy(a)\n",
      "    c = 0\n",
      "    for k=1:n\n",
      "        if k in r\n",
      "            splice!(b, k-c)\n",
      "        \tc += 1\n",
      "        end\n",
      "    end\n",
      "    return b\n",
      "end"
     ],
     "language": "python",
     "metadata": {},
     "outputs": [
      {
       "metadata": {},
       "output_type": "pyout",
       "prompt_number": 193,
       "text": [
        "negated_index (generic function with 4 methods)"
       ]
      }
     ],
     "prompt_number": 193
    },
    {
     "cell_type": "code",
     "collapsed": false,
     "input": [
      "negated_index(B, 2:4)"
     ],
     "language": "python",
     "metadata": {},
     "outputs": [
      {
       "metadata": {},
       "output_type": "pyout",
       "prompt_number": 198,
       "text": [
        "5-element Array{Int64,1}:\n",
        "  1\n",
        " 99\n",
        " 21\n",
        "  0\n",
        "  5"
       ]
      }
     ],
     "prompt_number": 198
    },
    {
     "cell_type": "code",
     "collapsed": false,
     "input": [
      "function negated_index{T<:Integer}(a::Vector, v::Vector{T})\n",
      "\tn = length(a)\n",
      "\tif !(1 <= minimum(v) && maximum(v) <= n)\n",
      "        throw(BoundsError())\n",
      "    end\n",
      "    b = deepcopy(a)\n",
      "    c = 0\n",
      "    for k=1:n\n",
      "        if k in v\n",
      "            splice!(b, k-c)\n",
      "        \tc += 1\n",
      "        end\n",
      "    end\n",
      "    return b\n",
      "end"
     ],
     "language": "python",
     "metadata": {},
     "outputs": [
      {
       "metadata": {},
       "output_type": "pyout",
       "prompt_number": 208,
       "text": [
        "negated_index (generic function with 4 methods)"
       ]
      }
     ],
     "prompt_number": 208
    },
    {
     "cell_type": "code",
     "collapsed": false,
     "input": [
      "negated_index(B, c)"
     ],
     "language": "python",
     "metadata": {},
     "outputs": [
      {
       "metadata": {},
       "output_type": "pyout",
       "prompt_number": 209,
       "text": [
        "6-element Array{Int64,1}:\n",
        "  7\n",
        "  2\n",
        " 99\n",
        " 21\n",
        "  0\n",
        "  5"
       ]
      }
     ],
     "prompt_number": 209
    },
    {
     "cell_type": "code",
     "collapsed": false,
     "input": [
      "B"
     ],
     "language": "python",
     "metadata": {},
     "outputs": [
      {
       "metadata": {},
       "output_type": "pyout",
       "prompt_number": 187,
       "text": [
        "8-element Array{Int64,1}:\n",
        "  1\n",
        "  7\n",
        "  2\n",
        "  4\n",
        " 99\n",
        " 21\n",
        "  0\n",
        "  5"
       ]
      }
     ],
     "prompt_number": 187
    },
    {
     "cell_type": "code",
     "collapsed": false,
     "input": [
      "c"
     ],
     "language": "python",
     "metadata": {},
     "outputs": [
      {
       "metadata": {},
       "output_type": "pyout",
       "prompt_number": 201,
       "text": [
        "2-element Array{Int64,1}:\n",
        " 1\n",
        " 4"
       ]
      }
     ],
     "prompt_number": 201
    },
    {
     "cell_type": "code",
     "collapsed": false,
     "input": [
      "typeof(Vector)"
     ],
     "language": "python",
     "metadata": {},
     "outputs": [
      {
       "metadata": {},
       "output_type": "pyout",
       "prompt_number": 211,
       "text": [
        "TypeConstructor"
       ]
      }
     ],
     "prompt_number": 211
    },
    {
     "cell_type": "code",
     "collapsed": false,
     "input": [
      "typeof(String)"
     ],
     "language": "python",
     "metadata": {},
     "outputs": [
      {
       "metadata": {},
       "output_type": "pyout",
       "prompt_number": 217,
       "text": [
        "DataType"
       ]
      }
     ],
     "prompt_number": 217
    },
    {
     "cell_type": "code",
     "collapsed": false,
     "input": [
      "typeof(TypeConstructor)"
     ],
     "language": "python",
     "metadata": {},
     "outputs": [
      {
       "metadata": {},
       "output_type": "pyout",
       "prompt_number": 214,
       "text": [
        "DataType"
       ]
      }
     ],
     "prompt_number": 214
    },
    {
     "cell_type": "code",
     "collapsed": false,
     "input": [
      "AllowedTypes = Union(Integer, Range{Integer}, Range1{Integer}, Vector{Int64}, Array{Int64}, Matrix{Int64})"
     ],
     "language": "python",
     "metadata": {},
     "outputs": [
      {
       "metadata": {},
       "output_type": "pyout",
       "prompt_number": 286,
       "text": [
        "Union(Array{Int64,N},Range{Integer},Integer,Range1{Integer})"
       ]
      }
     ],
     "prompt_number": 286
    },
    {
     "cell_type": "code",
     "collapsed": false,
     "input": [
      "2:2:8 :: AllowedTypes"
     ],
     "language": "python",
     "metadata": {},
     "outputs": [
      {
       "metadata": {},
       "output_type": "pyout",
       "prompt_number": 287,
       "text": [
        "2:2:8"
       ]
      }
     ],
     "prompt_number": 287
    },
    {
     "cell_type": "code",
     "collapsed": false,
     "input": [
      "A :: AllowedTypes"
     ],
     "language": "python",
     "metadata": {},
     "outputs": [
      {
       "metadata": {},
       "output_type": "pyout",
       "prompt_number": 288,
       "text": [
        "6-element Array{Int64,1}:\n",
        "  1\n",
        "  5\n",
        " 99\n",
        " 21\n",
        "  0\n",
        "  5"
       ]
      }
     ],
     "prompt_number": 288
    },
    {
     "cell_type": "code",
     "collapsed": false,
     "input": [
      "v = [1 2 3 4 5 6]"
     ],
     "language": "python",
     "metadata": {},
     "outputs": [
      {
       "metadata": {},
       "output_type": "pyout",
       "prompt_number": 289,
       "text": [
        "1x6 Array{Int64,2}:\n",
        " 1  2  3  4  5  6"
       ]
      }
     ],
     "prompt_number": 289
    },
    {
     "cell_type": "code",
     "collapsed": false,
     "input": [
      "+{S,T}(A::Union(Array{S,N},SubArray{S,N,A<:Array{T,N},I<:(Union(Range1{Int64},Int64,Range{Int64})...,)}),B::Union(Array{T,N},SubArray{T,N,A<:Array{T,N},I<:(Union(Range1{Int64},Int64,Range{Int64})...,)}))"
     ],
     "language": "python",
     "metadata": {},
     "outputs": [
      {
       "ename": "LoadError",
       "evalue": "S not defined\nat In[266]:1",
       "output_type": "pyerr",
       "traceback": [
        "S not defined\nat In[266]:1"
       ]
      }
     ],
     "prompt_number": 266
    },
    {
     "cell_type": "code",
     "collapsed": false,
     "input": [
      "v :: AllowedTypes"
     ],
     "language": "python",
     "metadata": {},
     "outputs": [
      {
       "metadata": {},
       "output_type": "pyout",
       "prompt_number": 290,
       "text": [
        "1x6 Array{Int64,2}:\n",
        " 1  2  3  4  5  6"
       ]
      }
     ],
     "prompt_number": 290
    },
    {
     "cell_type": "code",
     "collapsed": false,
     "input": [
      "v[6]"
     ],
     "language": "python",
     "metadata": {},
     "outputs": [
      {
       "metadata": {},
       "output_type": "pyout",
       "prompt_number": 291,
       "text": [
        "6"
       ]
      }
     ],
     "prompt_number": 291
    },
    {
     "cell_type": "code",
     "collapsed": false,
     "input": [
      "typeof(DataFrame)"
     ],
     "language": "python",
     "metadata": {},
     "outputs": [
      {
       "metadata": {},
       "output_type": "pyout",
       "prompt_number": 293,
       "text": [
        "Array{Int64,1}"
       ]
      }
     ],
     "prompt_number": 293
    },
    {
     "cell_type": "code",
     "collapsed": false,
     "input": [
      "RangeIndex = Union(Int, Range{Int}, Range1{Int}, Array{Int})\n",
      "\n",
      "function negated_index(A::Vector, i::RangeIndex)\n",
      "\tn = length(A)\n",
      "\tif !(1 <= minimum(i) && maximum(i) <= n)\n",
      "        throw(BoundsError())\n",
      "    end\n",
      "    b = deepcopy(A)\n",
      "    c = 0\n",
      "    for k=1:n\n",
      "        if k in i\n",
      "            splice!(b, k-c)\n",
      "        \tc += 1\n",
      "        end\n",
      "    end\n",
      "    return b\n",
      "end"
     ],
     "language": "python",
     "metadata": {},
     "outputs": [
      {
       "metadata": {},
       "output_type": "pyout",
       "prompt_number": 301,
       "text": [
        "negated_index (generic function with 6 methods)"
       ]
      }
     ],
     "prompt_number": 301
    },
    {
     "cell_type": "code",
     "collapsed": false,
     "input": [
      "negated_index(A,[11])"
     ],
     "language": "python",
     "metadata": {},
     "outputs": [
      {
       "ename": "LoadError",
       "evalue": "BoundsError()\nat In[318]:1",
       "output_type": "pyerr",
       "traceback": [
        "BoundsError()\nat In[318]:1",
        " in negated_index at In[301]:6"
       ]
      }
     ],
     "prompt_number": 318
    },
    {
     "cell_type": "code",
     "collapsed": false,
     "input": [
      "negated_index(A,[4,1,6])"
     ],
     "language": "python",
     "metadata": {},
     "outputs": [
      {
       "metadata": {},
       "output_type": "pyout",
       "prompt_number": 313,
       "text": [
        "3-element Array{Int64,1}:\n",
        "  5\n",
        " 99\n",
        "  0"
       ]
      }
     ],
     "prompt_number": 313
    },
    {
     "cell_type": "code",
     "collapsed": false,
     "input": [
      "A"
     ],
     "language": "python",
     "metadata": {},
     "outputs": [
      {
       "metadata": {},
       "output_type": "pyout",
       "prompt_number": 312,
       "text": [
        "6-element Array{Int64,1}:\n",
        "  1\n",
        "  5\n",
        " 99\n",
        " 21\n",
        "  0\n",
        "  5"
       ]
      }
     ],
     "prompt_number": 312
    },
    {
     "cell_type": "code",
     "collapsed": false,
     "input": [
      "getindex(A, 2.9)"
     ],
     "language": "python",
     "metadata": {},
     "outputs": [
      {
       "ename": "LoadError",
       "evalue": "InexactError()\nat In[320]:1",
       "output_type": "pyerr",
       "traceback": [
        "InexactError()\nat In[320]:1",
        " in getindex at array.jl:275"
       ]
      }
     ],
     "prompt_number": 320
    },
    {
     "cell_type": "code",
     "collapsed": false,
     "input": [
      "typealias RangeIndices Union(Int, Range{Int}, Range1{Int}, Array{Int})\n",
      "\n",
      "\n",
      "type NegatedIndex{T<:RangeIndices} <: Ranges{T}\n",
      "    idx::T\n",
      "end\n",
      "\n",
      "\n",
      "function getindex{T}(A::AbstractArray{T}, i::NegatedIndex)\n",
      "\tn = length(A)\n",
      "\tif !(1 <= minimum(i) && maximum(i) <= n)\n",
      "        throw(BoundsError())\n",
      "    end\n",
      "    b = copy(A)\n",
      "    c = 0\n",
      "    for k=1:n\n",
      "        if k in i\n",
      "            splice!(b, k-c)\n",
      "        \tc += 1\n",
      "        end\n",
      "    end\n",
      "    return b\n",
      "end\n",
      "\n",
      "copy(idx::RangeIndices) = idx\n",
      "\n",
      "getindex(A::AbstractArray, i::NegatedIndex) = getindex(A,i)"
     ],
     "language": "python",
     "metadata": {},
     "outputs": [
      {
       "output_type": "stream",
       "stream": "stderr",
       "text": [
        "Warning: New definition \n",
        "    getindex(AbstractArray"
       ]
      },
      {
       "output_type": "stream",
       "stream": "stderr",
       "text": [
        "{T,N},NegatedIndex{T<:Union"
       ]
      },
      {
       "output_type": "stream",
       "stream": "stderr",
       "text": [
        "(Range1{Int64},Range{Int64},Array{Int64,N},Int64)}) at In[321]:10\n",
        "is ambiguous with \n",
        "    getindex(Ranges{T},Ranges{Int64}) at range.jl:127.\n",
        "Make sure \n",
        "    getindex(Ranges{T},NegatedIndex{Int64})\n",
        "is defined first.\n",
        "Warning: New definition \n",
        "    getindex(AbstractArray{T,N},NegatedIndex{T<:Union(Range1{Int64},Range{Int64},Array{Int64,N},Int64)}) at In[321]:10\n",
        "is ambiguous with \n",
        "    getindex(SubArray{T,N,A<:AbstractArray{T,N},I<:(Union(Range{Int64},Range1{Int64},Int64)...,)},Union(Real,AbstractArray{T,1})...) at subarray.jl:306.\n",
        "Make sure \n",
        "    getindex(SubArray{T,N,A<:AbstractArray{T,N},I<:(Union(Range{Int64},Range1{Int64},Int64)...,)},NegatedIndex{T<:Union(Range1{Int64},Range{Int64},Array{Int64,N},Int64)})\n",
        "is defined first.\n",
        "Warning: New definition \n",
        "    getindex(AbstractArray{T,N},NegatedIndex{T<:Union(Range1{Int64},Range{Int64},Array{Int64,N},Int64)}) at In[321]:10\n",
        "is ambiguous with \n",
        "    getindex(Array{T,N},Union(Real,AbstractArray{T,1})...) at array.jl:362.\n",
        "Make sure \n",
        "    getindex(Array{T,N},NegatedIndex{T<:Union(Range1{Int64},Range{Int64},Array{Int64,N},Int64)})\n",
        "is defined first.\n",
        "Warning: New definition \n",
        "    getindex(AbstractArray{T,N},NegatedIndex{T<:Union(Range1{Int64},Range{Int64},Array{Int64,N},Int64)}) at In[321]:10\n",
        "is ambiguous with \n",
        "    getindex(BitArray{N},Union(Real,AbstractArray{T,1})...) at bitarray.jl:477.\n",
        "Make sure \n",
        "    getindex(BitArray{N},NegatedIndex{T<:Union(Range1{Int64},Range{Int64},Array{Int64,N},Int64)})\n",
        "is defined first.\n",
        "Warning: New definition \n",
        "    getindex(AbstractArray{T,N},NegatedIndex{T<:Union(Range1{Int64},Range{Int64},Array{Int64,N},Int64)}) at In[321]:10\n",
        "is ambiguous with \n",
        "    getindex(HessenbergQ{T},AbstractArray{T,N}) at linalg/factorization.jl:454.\n",
        "Make sure \n",
        "    getindex(HessenbergQ{T},NegatedIndex{T<:Union(Range1{Int64},Range{Int64},Array{Int64,N},Int64)})\n",
        "is defined first.\n",
        "Warning: New definition \n",
        "    getindex(AbstractArray{T,N},NegatedIndex{T<:Union(Range1{Int64},Range{Int64},Array{Int64,N},Int64)}) at In[321]:27\n",
        "is ambiguous with \n",
        "    getindex(Ranges{T},Ranges{Int64}) at range.jl:127.\n",
        "Make sure \n",
        "    getindex(Ranges{T},NegatedIndex{Int64})\n",
        "is defined first.\n",
        "Warning: New definition \n",
        "    getindex(AbstractArray{T,N},NegatedIndex{T<:Union(Range1{Int64},Range{Int64},Array{Int64,N},Int64)}) at In[321]:27\n",
        "is ambiguous with \n",
        "    getindex(SubArray{T,N,A<:AbstractArray{T,N},I<:(Union(Range{Int64},Range1{Int64},Int64)...,)},Union(Real,AbstractArray{T,1})...) at subarray.jl:306.\n",
        "Make sure \n",
        "    getindex(SubArray{T,N,A<:AbstractArray{T,N},I<:(Union(Range{Int64},Range1{Int64},Int64)...,)},NegatedIndex{T<:Union(Range1{Int64},Range{Int64},Array{Int64,N},Int64)})\n",
        "is defined first.\n",
        "Warning: New definition \n",
        "    getindex(AbstractArray{T,N},NegatedIndex{T<:Union(Range1{Int64},Range{Int64},Array{Int64,N},Int64)}) at In[321]:27\n",
        "is ambiguous with \n",
        "    getindex(Array{T,N},Union(Real,AbstractArray{T,1})...) at array.jl:362.\n",
        "Make sure \n",
        "    getindex(Array{T,N},NegatedIndex{T<:Union(Range1{Int64},Range{Int64},Array{Int64,N},Int64)})\n",
        "is defined first.\n",
        "Warning: New definition \n",
        "    getindex(AbstractArray{T,N},NegatedIndex{T<:Union(Range1{Int64},Range{Int64},Array{Int64,N},Int64)}) at In[321]:27\n",
        "is ambiguous with \n",
        "    getindex(BitArray{N},Union(Real,AbstractArray{T,1})...) at bitarray.jl:477.\n",
        "Make sure \n",
        "    getindex(BitArray{N},NegatedIndex{T<:Union(Range1{Int64},Range{Int64},Array{Int64,N},Int64)})\n",
        "is defined first.\n",
        "Warning: New definition \n",
        "    getindex(AbstractArray{T,N},NegatedIndex{T<:Union(Range1{Int64},Range{Int64},Array{Int64,N},Int64)}) at In[321]:27\n",
        "is ambiguous with \n",
        "    getindex(HessenbergQ{T},AbstractArray{T,N}) at linalg/factorization.jl:454.\n",
        "Make sure \n",
        "    getindex(HessenbergQ{T},NegatedIndex{T<:Union(Range1{Int64},Range{Int64},Array{Int64,N},Int64)})"
       ]
      },
      {
       "metadata": {},
       "output_type": "pyout",
       "prompt_number": 321,
       "text": [
        "getindex (generic function with 144 methods)"
       ]
      },
      {
       "output_type": "stream",
       "stream": "stderr",
       "text": [
        "\n",
        "is defined first.\n"
       ]
      }
     ],
     "prompt_number": 321
    },
    {
     "cell_type": "code",
     "collapsed": false,
     "input": [
      "A[x::NegatedIndex]"
     ],
     "language": "python",
     "metadata": {},
     "outputs": [
      {
       "ename": "LoadError",
       "evalue": "type: typeassert: expected NegatedIndex{T<:Union(Range1{Int64},Range{Int64},Array{Int64,N},Int64)}, got Int64\nat In[325]:1",
       "output_type": "pyerr",
       "traceback": [
        "type: typeassert: expected NegatedIndex{T<:Union(Range1{Int64},Range{Int64},Array{Int64,N},Int64)}, got Int64\nat In[325]:1"
       ]
      }
     ],
     "prompt_number": 325
    },
    {
     "cell_type": "code",
     "collapsed": false,
     "input": [
      "x"
     ],
     "language": "python",
     "metadata": {},
     "outputs": [
      {
       "metadata": {},
       "output_type": "pyout",
       "prompt_number": 326,
       "text": [
        "5"
       ]
      }
     ],
     "prompt_number": 326
    },
    {
     "cell_type": "code",
     "collapsed": false,
     "input": [
      "function getindex(A::Array, i::NegatedIndex4)\n",
      "\tn = length(A)\n",
      "\tif !(1 <= minimum(i) && maximum(i) <= n)\n",
      "        throw(BoundsError())\n",
      "    end\n",
      "    b = copy(A)\n",
      "    c = 0\n",
      "    for k=1:n\n",
      "        if k in i\n",
      "            splice!(b, k-c)\n",
      "        \tc += 1\n",
      "        end\n",
      "    end\n",
      "    return b\n",
      "end\n",
      "\n",
      "copy(idx::RangeIndices) = idx\n",
      "\n",
      "getindex(A::Array, i::NegatedIndex4) = getindex(A,i)\n",
      "len(i::NegatedIndex4) = len(i)\n",
      "\n",
      "!(A::Array,x::RangeIndices) = getindex(A, NegatedIndex4(x))"
     ],
     "language": "python",
     "metadata": {},
     "outputs": [
      {
       "metadata": {},
       "output_type": "pyout",
       "prompt_number": 381,
       "text": [
        "! (generic function with 6 methods)"
       ]
      }
     ],
     "prompt_number": 381
    },
    {
     "cell_type": "code",
     "collapsed": false,
     "input": [
      "A[!2]"
     ],
     "language": "python",
     "metadata": {},
     "outputs": [
      {
       "ename": "LoadError",
       "evalue": "type NegatedIndex has no field len\nat In[382]:1",
       "output_type": "pyerr",
       "traceback": [
        "type NegatedIndex has no field len\nat In[382]:1",
        " in minimum at range.jl:102",
        " in getindex at In[356]:3",
        " in ! at In[339]:21"
       ]
      }
     ],
     "prompt_number": 382
    },
    {
     "cell_type": "code",
     "collapsed": false,
     "input": [
      "A[!(1:4)]"
     ],
     "language": "python",
     "metadata": {},
     "outputs": [
      {
       "ename": "LoadError",
       "evalue": "type: typeassert: expected NegatedIndex{T<:Union(Range1{Int64},Range{Int64},Array{Int64,N},Int64)}, got Range1{Int64}\nat In[334]:1",
       "output_type": "pyerr",
       "traceback": [
        "type: typeassert: expected NegatedIndex{T<:Union(Range1{Int64},Range{Int64},Array{Int64,N},Int64)}, got Range1{Int64}\nat In[334]:1",
        " in ! at In[329]:21"
       ]
      }
     ],
     "prompt_number": 334
    },
    {
     "cell_type": "code",
     "collapsed": false,
     "input": [],
     "language": "python",
     "metadata": {},
     "outputs": []
    }
   ],
   "metadata": {}
  }
 ]
}